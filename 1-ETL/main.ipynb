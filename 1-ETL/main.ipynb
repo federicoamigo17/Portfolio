{
 "cells": [
  {
   "cell_type": "markdown",
   "id": "4589737a-7723-4f88-a049-fbb14fb76fcb",
   "metadata": {},
   "source": [
    "<h1>Proyecto ETL</h1>"
   ]
  },
  {
   "cell_type": "markdown",
   "id": "a873cbad-f021-4ad4-ba9f-8b3977ef943d",
   "metadata": {},
   "source": [
    "<h2>Presentación</h2>"
   ]
  },
  {
   "cell_type": "markdown",
   "id": "c734663c-14e5-4b45-aff4-e2ed636fe1ac",
   "metadata": {},
   "source": [
    "<p>La idea de este proyecto es realizar un proceso basico de extraer, transformar y cargar para practicar mi forma de documentar y usar github así como demostrar conocimiento basico de request, pandas y SQL. </p>"
   ]
  },
  {
   "cell_type": "code",
   "execution_count": 1,
   "id": "4603802d-93a5-4674-ad3b-901526b273e0",
   "metadata": {},
   "outputs": [],
   "source": [
    "import requests\n",
    "import random\n",
    "import pandas as pd\n",
    "from sqlalchemy import create_engine"
   ]
  },
  {
   "cell_type": "markdown",
   "id": "7039edfb-3f73-4012-945b-d302fc0ec814",
   "metadata": {},
   "source": [
    "<p>Encontre esta api que me parecio interesante y facil de usar asi que voy a investigarla usando postman y la documentacion</p>"
   ]
  },
  {
   "cell_type": "markdown",
   "id": "800a49ec-55b8-48c6-bdca-71d240212d55",
   "metadata": {},
   "source": [
    "http://universities.hipolabs.com/\n",
    "https://github.com/Hipo/university-domains-list-api"
   ]
  },
  {
   "cell_type": "markdown",
   "id": "8bb47507-f716-4f96-a5d3-d0a6555b59f6",
   "metadata": {},
   "source": [
    "<p>Me aseguro de que funcione en jupyter</p>"
   ]
  },
  {
   "cell_type": "code",
   "execution_count": 2,
   "id": "0f633ce4-deca-4d02-a6b1-0e8c6569e00c",
   "metadata": {},
   "outputs": [
    {
     "name": "stdout",
     "output_type": "stream",
     "text": [
      "{'name': 'Ecole Française de Papeterie et des Industries Graphiques', 'country': 'France', 'state-province': None, 'domains': ['efpg.inpg.fr'], 'alpha_two_code': 'FR', 'web_pages': ['http://www.efpg.inpg.fr/']}\n"
     ]
    }
   ],
   "source": [
    "url_api = \"http://universities.hipolabs.com/search\"\n",
    "\n",
    "\n",
    "respuesta = requests.get(url_api)\n",
    "\n",
    "#compruebo de que funcione, caso contrario que imprima el codigo de error.\n",
    "if respuesta.status_code == 200:\n",
    "    universidades = respuesta.json()\n",
    "    #A modo de ejemplo elijo una universidad al azar y la imprimo para asegurarme de que funcione\n",
    "    universidadejemplo = random.choice(universidades)\n",
    "    print(universidadejemplo)\n",
    "else:\n",
    "    print('La solicitud no fue exitosa. Código de estado:', respuesta.status_code)"
   ]
  },
  {
   "cell_type": "markdown",
   "id": "321a60ec-1745-442e-97ef-9810df9cd873",
   "metadata": {},
   "source": [
    "<p>La api devuelve una lista de universidades en .json, para reducir la lista voy pegarle al endpoint que devuelve solo las de Argentina</p>"
   ]
  },
  {
   "cell_type": "markdown",
   "id": "87251d91-054e-4edd-913e-2f40cb5bb267",
   "metadata": {},
   "source": [
    "http://universities.hipolabs.com/search?country=Argentina"
   ]
  },
  {
   "cell_type": "markdown",
   "id": "146ca8d7-ee83-407a-a5ea-d80cdac90415",
   "metadata": {},
   "source": [
    "<h2>Extraer</h2>"
   ]
  },
  {
   "cell_type": "markdown",
   "id": "7db52a59-b36f-4e89-9f4e-a4877dca578e",
   "metadata": {},
   "source": [
    "<p>Voy a definir una funcion extrer que va a guardar los datos en formato .json</p>"
   ]
  },
  {
   "cell_type": "code",
   "execution_count": 3,
   "id": "6a747cb4-730a-4d7c-9655-1c9cab654bf8",
   "metadata": {},
   "outputs": [],
   "source": [
    "def extraer():\n",
    "    \"\"\" Esta api extrae datos desde\n",
    "    http://universities.hipolabs.com/\n",
    "    \"\"\"\n",
    "    url = 'http://universities.hipolabs.com/search?country=Argentina'\n",
    "    datos = requests.get(url).json()\n",
    "    return datos"
   ]
  },
  {
   "cell_type": "markdown",
   "id": "2dd2934b-27b5-4402-9712-681da41ae59d",
   "metadata": {},
   "source": [
    "<h2>Transformar</h2>"
   ]
  },
  {
   "cell_type": "markdown",
   "id": "b108e9d8-66be-4ffa-8343-a1de7a52c073",
   "metadata": {},
   "source": [
    "<p>Voy a realizar una transformacion antes de guardar los datos, usando pandas</p>"
   ]
  },
  {
   "cell_type": "code",
   "execution_count": 4,
   "id": "7b824b04-0560-4713-8d7b-55abef0098d2",
   "metadata": {},
   "outputs": [
    {
     "data": {
      "text/html": [
       "<div>\n",
       "<style scoped>\n",
       "    .dataframe tbody tr th:only-of-type {\n",
       "        vertical-align: middle;\n",
       "    }\n",
       "\n",
       "    .dataframe tbody tr th {\n",
       "        vertical-align: top;\n",
       "    }\n",
       "\n",
       "    .dataframe thead th {\n",
       "        text-align: right;\n",
       "    }\n",
       "</style>\n",
       "<table border=\"1\" class=\"dataframe\">\n",
       "  <thead>\n",
       "    <tr style=\"text-align: right;\">\n",
       "      <th></th>\n",
       "      <th>name</th>\n",
       "      <th>country</th>\n",
       "      <th>state-province</th>\n",
       "      <th>domains</th>\n",
       "      <th>alpha_two_code</th>\n",
       "      <th>web_pages</th>\n",
       "    </tr>\n",
       "  </thead>\n",
       "  <tbody>\n",
       "    <tr>\n",
       "      <th>0</th>\n",
       "      <td>Universidad Atlantida Argentina</td>\n",
       "      <td>Argentina</td>\n",
       "      <td>Buenos Aires</td>\n",
       "      <td>[atlantida.edu.ar]</td>\n",
       "      <td>AR</td>\n",
       "      <td>[http://www.atlantida.edu.ar/]</td>\n",
       "    </tr>\n",
       "    <tr>\n",
       "      <th>1</th>\n",
       "      <td>Universidad Austral Buenos Aires</td>\n",
       "      <td>Argentina</td>\n",
       "      <td>Buenos Aires</td>\n",
       "      <td>[austral.edu.ar]</td>\n",
       "      <td>AR</td>\n",
       "      <td>[http://www.austral.edu.ar/]</td>\n",
       "    </tr>\n",
       "    <tr>\n",
       "      <th>2</th>\n",
       "      <td>Universidad CAECE, Buenos Aires</td>\n",
       "      <td>Argentina</td>\n",
       "      <td>Ciudad Autónoma de Buenos Aires</td>\n",
       "      <td>[caece.edu.ar]</td>\n",
       "      <td>AR</td>\n",
       "      <td>[http://www.caece.edu.ar/]</td>\n",
       "    </tr>\n",
       "    <tr>\n",
       "      <th>3</th>\n",
       "      <td>Instituto Universitario CEMA</td>\n",
       "      <td>Argentina</td>\n",
       "      <td>Ciudad Autónoma de Buenos Aires</td>\n",
       "      <td>[cema.edu.ar]</td>\n",
       "      <td>AR</td>\n",
       "      <td>[http://www.cema.edu.ar/]</td>\n",
       "    </tr>\n",
       "    <tr>\n",
       "      <th>4</th>\n",
       "      <td>Instituto de Enseñanza Superior del Ejército</td>\n",
       "      <td>Argentina</td>\n",
       "      <td>Ciudad Autónoma de Buenos Aires</td>\n",
       "      <td>[iese.edu.ar]</td>\n",
       "      <td>AR</td>\n",
       "      <td>[http://www.iese.edu.ar/]</td>\n",
       "    </tr>\n",
       "    <tr>\n",
       "      <th>...</th>\n",
       "      <td>...</td>\n",
       "      <td>...</td>\n",
       "      <td>...</td>\n",
       "      <td>...</td>\n",
       "      <td>...</td>\n",
       "      <td>...</td>\n",
       "    </tr>\n",
       "    <tr>\n",
       "      <th>81</th>\n",
       "      <td>Universidad Nacional de Tres de Febrero</td>\n",
       "      <td>Argentina</td>\n",
       "      <td>Buenos Aires</td>\n",
       "      <td>[untref.edu.ar]</td>\n",
       "      <td>AR</td>\n",
       "      <td>[http://www.untref.edu.ar/]</td>\n",
       "    </tr>\n",
       "    <tr>\n",
       "      <th>82</th>\n",
       "      <td>Universidad Torcuato di Tella</td>\n",
       "      <td>Argentina</td>\n",
       "      <td>Ciudad Autónoma de Buenos Aires</td>\n",
       "      <td>[utdt.edu]</td>\n",
       "      <td>AR</td>\n",
       "      <td>[http://www.utdt.edu/]</td>\n",
       "    </tr>\n",
       "    <tr>\n",
       "      <th>83</th>\n",
       "      <td>Universidad Tecnológica Nacional</td>\n",
       "      <td>Argentina</td>\n",
       "      <td>Ciudad Autónoma de Buenos Aires</td>\n",
       "      <td>[utn.edu.ar]</td>\n",
       "      <td>AR</td>\n",
       "      <td>[http://www.utn.edu.ar/]</td>\n",
       "    </tr>\n",
       "    <tr>\n",
       "      <th>84</th>\n",
       "      <td>Universidad Abierta Interamericana</td>\n",
       "      <td>Argentina</td>\n",
       "      <td>Ciudad Autónoma de Buenos Aires</td>\n",
       "      <td>[vaneduc.edu.ar]</td>\n",
       "      <td>AR</td>\n",
       "      <td>[http://www.vaneduc.edu.ar/uai/]</td>\n",
       "    </tr>\n",
       "    <tr>\n",
       "      <th>85</th>\n",
       "      <td>Universidad Nacional de Villa María</td>\n",
       "      <td>Argentina</td>\n",
       "      <td>None</td>\n",
       "      <td>[webs.satlink.com]</td>\n",
       "      <td>AR</td>\n",
       "      <td>[http://webs.satlink.com/usuarios/i/iiunvm/]</td>\n",
       "    </tr>\n",
       "  </tbody>\n",
       "</table>\n",
       "<p>86 rows × 6 columns</p>\n",
       "</div>"
      ],
      "text/plain": [
       "                                            name    country  \\\n",
       "0                Universidad Atlantida Argentina  Argentina   \n",
       "1               Universidad Austral Buenos Aires  Argentina   \n",
       "2                Universidad CAECE, Buenos Aires  Argentina   \n",
       "3                   Instituto Universitario CEMA  Argentina   \n",
       "4   Instituto de Enseñanza Superior del Ejército  Argentina   \n",
       "..                                           ...        ...   \n",
       "81       Universidad Nacional de Tres de Febrero  Argentina   \n",
       "82                 Universidad Torcuato di Tella  Argentina   \n",
       "83              Universidad Tecnológica Nacional  Argentina   \n",
       "84            Universidad Abierta Interamericana  Argentina   \n",
       "85           Universidad Nacional de Villa María  Argentina   \n",
       "\n",
       "                     state-province             domains alpha_two_code  \\\n",
       "0                      Buenos Aires  [atlantida.edu.ar]             AR   \n",
       "1                      Buenos Aires    [austral.edu.ar]             AR   \n",
       "2   Ciudad Autónoma de Buenos Aires      [caece.edu.ar]             AR   \n",
       "3   Ciudad Autónoma de Buenos Aires       [cema.edu.ar]             AR   \n",
       "4   Ciudad Autónoma de Buenos Aires       [iese.edu.ar]             AR   \n",
       "..                              ...                 ...            ...   \n",
       "81                     Buenos Aires     [untref.edu.ar]             AR   \n",
       "82  Ciudad Autónoma de Buenos Aires          [utdt.edu]             AR   \n",
       "83  Ciudad Autónoma de Buenos Aires        [utn.edu.ar]             AR   \n",
       "84  Ciudad Autónoma de Buenos Aires    [vaneduc.edu.ar]             AR   \n",
       "85                             None  [webs.satlink.com]             AR   \n",
       "\n",
       "                                       web_pages  \n",
       "0                 [http://www.atlantida.edu.ar/]  \n",
       "1                   [http://www.austral.edu.ar/]  \n",
       "2                     [http://www.caece.edu.ar/]  \n",
       "3                      [http://www.cema.edu.ar/]  \n",
       "4                      [http://www.iese.edu.ar/]  \n",
       "..                                           ...  \n",
       "81                   [http://www.untref.edu.ar/]  \n",
       "82                        [http://www.utdt.edu/]  \n",
       "83                      [http://www.utn.edu.ar/]  \n",
       "84              [http://www.vaneduc.edu.ar/uai/]  \n",
       "85  [http://webs.satlink.com/usuarios/i/iiunvm/]  \n",
       "\n",
       "[86 rows x 6 columns]"
      ]
     },
     "execution_count": 4,
     "metadata": {},
     "output_type": "execute_result"
    }
   ],
   "source": [
    "df = pd.DataFrame(extraer())\n",
    "df"
   ]
  },
  {
   "cell_type": "code",
   "execution_count": 5,
   "id": "c6e8c3c5-478d-49d3-8e22-eb3dc2a49dbf",
   "metadata": {},
   "outputs": [
    {
     "data": {
      "text/html": [
       "<div>\n",
       "<style scoped>\n",
       "    .dataframe tbody tr th:only-of-type {\n",
       "        vertical-align: middle;\n",
       "    }\n",
       "\n",
       "    .dataframe tbody tr th {\n",
       "        vertical-align: top;\n",
       "    }\n",
       "\n",
       "    .dataframe thead th {\n",
       "        text-align: right;\n",
       "    }\n",
       "</style>\n",
       "<table border=\"1\" class=\"dataframe\">\n",
       "  <thead>\n",
       "    <tr style=\"text-align: right;\">\n",
       "      <th></th>\n",
       "      <th>name</th>\n",
       "      <th>country</th>\n",
       "      <th>state-province</th>\n",
       "      <th>domains</th>\n",
       "      <th>alpha_two_code</th>\n",
       "      <th>web_pages</th>\n",
       "    </tr>\n",
       "  </thead>\n",
       "  <tbody>\n",
       "    <tr>\n",
       "      <th>count</th>\n",
       "      <td>86</td>\n",
       "      <td>86</td>\n",
       "      <td>65</td>\n",
       "      <td>86</td>\n",
       "      <td>86</td>\n",
       "      <td>86</td>\n",
       "    </tr>\n",
       "    <tr>\n",
       "      <th>unique</th>\n",
       "      <td>86</td>\n",
       "      <td>1</td>\n",
       "      <td>17</td>\n",
       "      <td>86</td>\n",
       "      <td>1</td>\n",
       "      <td>86</td>\n",
       "    </tr>\n",
       "    <tr>\n",
       "      <th>top</th>\n",
       "      <td>Universidad Atlantida Argentina</td>\n",
       "      <td>Argentina</td>\n",
       "      <td>Buenos Aires</td>\n",
       "      <td>[atlantida.edu.ar]</td>\n",
       "      <td>AR</td>\n",
       "      <td>[http://www.atlantida.edu.ar/]</td>\n",
       "    </tr>\n",
       "    <tr>\n",
       "      <th>freq</th>\n",
       "      <td>1</td>\n",
       "      <td>86</td>\n",
       "      <td>20</td>\n",
       "      <td>1</td>\n",
       "      <td>86</td>\n",
       "      <td>1</td>\n",
       "    </tr>\n",
       "  </tbody>\n",
       "</table>\n",
       "</div>"
      ],
      "text/plain": [
       "                                   name    country state-province  \\\n",
       "count                                86         86             65   \n",
       "unique                               86          1             17   \n",
       "top     Universidad Atlantida Argentina  Argentina   Buenos Aires   \n",
       "freq                                  1         86             20   \n",
       "\n",
       "                   domains alpha_two_code                       web_pages  \n",
       "count                   86             86                              86  \n",
       "unique                  86              1                              86  \n",
       "top     [atlantida.edu.ar]             AR  [http://www.atlantida.edu.ar/]  \n",
       "freq                     1             86                               1  "
      ]
     },
     "execution_count": 5,
     "metadata": {},
     "output_type": "execute_result"
    }
   ],
   "source": [
    "df.describe()"
   ]
  },
  {
   "cell_type": "markdown",
   "id": "99d60c2e-857b-401f-bde3-bedabe809cab",
   "metadata": {},
   "source": [
    "<p>Verifico parte de la estructura del dataframe, no tiene inconvenientes respecto a la \"limpieza\" de los datos, solamente queda filtrarlos, tener en cuenta que ciudad y provincia de buenos aires aparecen separados</p>"
   ]
  },
  {
   "cell_type": "code",
   "execution_count": 6,
   "id": "e44f0b0d-6626-4415-b541-d4d54936d837",
   "metadata": {},
   "outputs": [],
   "source": [
    "df = df.drop(columns=['alpha_two_code','country'])"
   ]
  },
  {
   "cell_type": "markdown",
   "id": "15140c64-9b75-4f32-91eb-e51a4b4156c3",
   "metadata": {},
   "source": [
    "<p>Ya que por medio de la api filtre a las universidades argentinas, resultan redundantes ambas columnas</p>"
   ]
  },
  {
   "cell_type": "code",
   "execution_count": 7,
   "id": "8c610714-2c9b-40ea-a60c-a83bb1022b55",
   "metadata": {},
   "outputs": [
    {
     "data": {
      "text/html": [
       "<div>\n",
       "<style scoped>\n",
       "    .dataframe tbody tr th:only-of-type {\n",
       "        vertical-align: middle;\n",
       "    }\n",
       "\n",
       "    .dataframe tbody tr th {\n",
       "        vertical-align: top;\n",
       "    }\n",
       "\n",
       "    .dataframe thead th {\n",
       "        text-align: right;\n",
       "    }\n",
       "</style>\n",
       "<table border=\"1\" class=\"dataframe\">\n",
       "  <thead>\n",
       "    <tr style=\"text-align: right;\">\n",
       "      <th></th>\n",
       "      <th>name</th>\n",
       "      <th>state-province</th>\n",
       "      <th>domains</th>\n",
       "      <th>web_pages</th>\n",
       "    </tr>\n",
       "  </thead>\n",
       "  <tbody>\n",
       "    <tr>\n",
       "      <th>0</th>\n",
       "      <td>Universidad Atlantida Argentina</td>\n",
       "      <td>Buenos Aires</td>\n",
       "      <td>[atlantida.edu.ar]</td>\n",
       "      <td>[http://www.atlantida.edu.ar/]</td>\n",
       "    </tr>\n",
       "    <tr>\n",
       "      <th>1</th>\n",
       "      <td>Universidad Austral Buenos Aires</td>\n",
       "      <td>Buenos Aires</td>\n",
       "      <td>[austral.edu.ar]</td>\n",
       "      <td>[http://www.austral.edu.ar/]</td>\n",
       "    </tr>\n",
       "    <tr>\n",
       "      <th>2</th>\n",
       "      <td>Universidad CAECE, Buenos Aires</td>\n",
       "      <td>Ciudad Autónoma de Buenos Aires</td>\n",
       "      <td>[caece.edu.ar]</td>\n",
       "      <td>[http://www.caece.edu.ar/]</td>\n",
       "    </tr>\n",
       "    <tr>\n",
       "      <th>3</th>\n",
       "      <td>Instituto Universitario CEMA</td>\n",
       "      <td>Ciudad Autónoma de Buenos Aires</td>\n",
       "      <td>[cema.edu.ar]</td>\n",
       "      <td>[http://www.cema.edu.ar/]</td>\n",
       "    </tr>\n",
       "    <tr>\n",
       "      <th>4</th>\n",
       "      <td>Instituto de Enseñanza Superior del Ejército</td>\n",
       "      <td>Ciudad Autónoma de Buenos Aires</td>\n",
       "      <td>[iese.edu.ar]</td>\n",
       "      <td>[http://www.iese.edu.ar/]</td>\n",
       "    </tr>\n",
       "  </tbody>\n",
       "</table>\n",
       "</div>"
      ],
      "text/plain": [
       "                                           name  \\\n",
       "0               Universidad Atlantida Argentina   \n",
       "1              Universidad Austral Buenos Aires   \n",
       "2               Universidad CAECE, Buenos Aires   \n",
       "3                  Instituto Universitario CEMA   \n",
       "4  Instituto de Enseñanza Superior del Ejército   \n",
       "\n",
       "                    state-province             domains  \\\n",
       "0                     Buenos Aires  [atlantida.edu.ar]   \n",
       "1                     Buenos Aires    [austral.edu.ar]   \n",
       "2  Ciudad Autónoma de Buenos Aires      [caece.edu.ar]   \n",
       "3  Ciudad Autónoma de Buenos Aires       [cema.edu.ar]   \n",
       "4  Ciudad Autónoma de Buenos Aires       [iese.edu.ar]   \n",
       "\n",
       "                        web_pages  \n",
       "0  [http://www.atlantida.edu.ar/]  \n",
       "1    [http://www.austral.edu.ar/]  \n",
       "2      [http://www.caece.edu.ar/]  \n",
       "3       [http://www.cema.edu.ar/]  \n",
       "4       [http://www.iese.edu.ar/]  "
      ]
     },
     "execution_count": 7,
     "metadata": {},
     "output_type": "execute_result"
    }
   ],
   "source": [
    "df = df.loc[(df[\"state-province\"] == \"Buenos Aires\")| (df[\"state-province\"] == \"Ciudad Autónoma de Buenos Aires\")]\n",
    "df.head()"
   ]
  },
  {
   "cell_type": "markdown",
   "id": "5887175c",
   "metadata": {},
   "source": [
    "<p>Ahora quedaria reorganizar las columnas, convertir listas en cadenas y restablecer el indice<p/>"
   ]
  },
  {
   "cell_type": "code",
   "execution_count": 9,
   "id": "d273e6b9",
   "metadata": {},
   "outputs": [],
   "source": [
    "df = df[['name', 'state-province', 'domains', 'web_pages']]\n",
    "df['domains'] = df['domains'].apply(lambda x: ', '.join(x))\n",
    "df['web_pages'] = df['web_pages'].apply(lambda x: ', '.join(x))\n",
    "df = df.reset_index(drop=True)"
   ]
  },
  {
   "cell_type": "markdown",
   "id": "10a20bed-11b3-4f55-8a1f-b9f332803e3f",
   "metadata": {},
   "source": [
    "<p>Ahora lo voy a cargar a una base de datos relacional de forma local con SqlAlchemy</p>"
   ]
  },
  {
   "cell_type": "code",
   "execution_count": 10,
   "id": "8614cb2d-2145-4698-82e0-fec9f211c9e8",
   "metadata": {},
   "outputs": [],
   "source": [
    "def cargar(df:pd.DataFrame):\n",
    "    \"\"\" carga los datos en una base de datos sqllite \"\"\"\n",
    "    disk_engine = create_engine('sqlite:///bdatos.db')\n",
    "    df.to_sql('cal_uni', disk_engine, if_exists='replace')"
   ]
  },
  {
   "cell_type": "code",
   "execution_count": 11,
   "id": "b5c148b9-6380-4884-9496-f9b9213aef4b",
   "metadata": {},
   "outputs": [],
   "source": [
    "cargar(df)"
   ]
  },
  {
   "cell_type": "markdown",
   "id": "85bf9026",
   "metadata": {},
   "source": [
    "<p>L<p/>"
   ]
  }
 ],
 "metadata": {
  "kernelspec": {
   "display_name": "Python 3 (ipykernel)",
   "language": "python",
   "name": "python3"
  },
  "language_info": {
   "codemirror_mode": {
    "name": "ipython",
    "version": 3
   },
   "file_extension": ".py",
   "mimetype": "text/x-python",
   "name": "python",
   "nbconvert_exporter": "python",
   "pygments_lexer": "ipython3",
   "version": "3.11.5"
  }
 },
 "nbformat": 4,
 "nbformat_minor": 5
}
